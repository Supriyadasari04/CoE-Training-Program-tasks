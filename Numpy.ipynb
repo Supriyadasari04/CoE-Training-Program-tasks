{
  "nbformat": 4,
  "nbformat_minor": 0,
  "metadata": {
    "colab": {
      "provenance": []
    },
    "kernelspec": {
      "name": "python3",
      "display_name": "Python 3"
    },
    "language_info": {
      "name": "python"
    }
  },
  "cells": [
    {
      "cell_type": "markdown",
      "source": [
        "\n",
        "\n",
        "> # Numpy\n",
        "- ( Numerical Python ) is a powerful python library for numerical computing. It provides support for multi-dimensional arrays, matrices, collection of mathematical functions to operate on these arrays.\n",
        "\n",
        "\n",
        "> # Installation\n",
        "- pip install numpy\n",
        "\n",
        "> # Import\n",
        "- import numpy as np\n",
        "\n",
        "\n",
        "\n",
        "\n",
        "\n"
      ],
      "metadata": {
        "id": "qchecq5-oGgL"
      }
    },
    {
      "cell_type": "code",
      "source": [
        "pip install numpy"
      ],
      "metadata": {
        "colab": {
          "base_uri": "https://localhost:8080/"
        },
        "id": "naXoNymhormC",
        "outputId": "a4a0abf7-7efa-4d65-a9b3-25a82a6578c2"
      },
      "execution_count": 6,
      "outputs": [
        {
          "output_type": "stream",
          "name": "stdout",
          "text": [
            "Requirement already satisfied: numpy in /usr/local/lib/python3.11/dist-packages (1.26.4)\n"
          ]
        }
      ]
    },
    {
      "cell_type": "code",
      "source": [
        "import numpy as np"
      ],
      "metadata": {
        "id": "rCRZklXTpxtN"
      },
      "execution_count": 7,
      "outputs": []
    },
    {
      "cell_type": "markdown",
      "source": [
        "\n",
        "\n",
        "> # Create Array\n",
        "- a) From python lists :\n",
        "     * 1D arrays and 2D arrays (multi-dimensional)\n",
        "     * Creation : np.array()\n",
        "- b) Using built-in functions :\n",
        "     * array of zeroes : np.zeroes((2,3))\n",
        "     * array of ones : np.ones((2,3))\n",
        "     * array of random values : np.random()\n",
        "     * identify matrix : np.eye()\n",
        "     * array with a range of values : np.arange()"
      ],
      "metadata": {
        "id": "_6GlqMm9p0LE"
      }
    },
    {
      "cell_type": "code",
      "source": [
        "# 1D array\n",
        "\n",
        "a=np.array([1,2,3])\n",
        "print(a)"
      ],
      "metadata": {
        "colab": {
          "base_uri": "https://localhost:8080/"
        },
        "id": "UsBri4Hfp94c",
        "outputId": "db30426f-bcd4-458c-cd87-37977e964837"
      },
      "execution_count": 8,
      "outputs": [
        {
          "output_type": "stream",
          "name": "stdout",
          "text": [
            "[1 2 3]\n"
          ]
        }
      ]
    },
    {
      "cell_type": "code",
      "source": [
        "# 2D array\n",
        "\n",
        "b=np.array([[1,2,3],[4,5,6]])\n",
        "print(b)"
      ],
      "metadata": {
        "colab": {
          "base_uri": "https://localhost:8080/"
        },
        "id": "HVEvi4UFqMiD",
        "outputId": "619a7dfe-61f9-4f56-df15-9825f07b277e"
      },
      "execution_count": 9,
      "outputs": [
        {
          "output_type": "stream",
          "name": "stdout",
          "text": [
            "[[1 2 3]\n",
            " [4 5 6]]\n"
          ]
        }
      ]
    },
    {
      "cell_type": "code",
      "source": [
        "# array of zeroes\n",
        "\n",
        "c=np.zeros((2,3))\n",
        "print(c)"
      ],
      "metadata": {
        "colab": {
          "base_uri": "https://localhost:8080/"
        },
        "id": "CCMuvslkqR9D",
        "outputId": "dc056cbe-f93e-43e3-f57f-ab17d968b07e"
      },
      "execution_count": 10,
      "outputs": [
        {
          "output_type": "stream",
          "name": "stdout",
          "text": [
            "[[0. 0. 0.]\n",
            " [0. 0. 0.]]\n"
          ]
        }
      ]
    },
    {
      "cell_type": "code",
      "source": [
        "# array of ones\n",
        "\n",
        "d=np.ones((2,3))\n",
        "print(d)"
      ],
      "metadata": {
        "colab": {
          "base_uri": "https://localhost:8080/"
        },
        "id": "wePbUmEjrRj8",
        "outputId": "4837568b-2fb0-463a-e4aa-06428f5f4c68"
      },
      "execution_count": 11,
      "outputs": [
        {
          "output_type": "stream",
          "name": "stdout",
          "text": [
            "[[1. 1. 1.]\n",
            " [1. 1. 1.]]\n"
          ]
        }
      ]
    },
    {
      "cell_type": "code",
      "source": [
        "# array of random values\n",
        "\n",
        "e=np.random.random((3,3))\n",
        "print(e)"
      ],
      "metadata": {
        "colab": {
          "base_uri": "https://localhost:8080/"
        },
        "id": "ntEbbfNcrUKU",
        "outputId": "c14a24f6-bb67-4a9a-a232-74578fff6ce9"
      },
      "execution_count": 12,
      "outputs": [
        {
          "output_type": "stream",
          "name": "stdout",
          "text": [
            "[[0.76214809 0.46528596 0.42930158]\n",
            " [0.18584115 0.28663219 0.4406619 ]\n",
            " [0.37666533 0.08378184 0.82790028]]\n"
          ]
        }
      ]
    },
    {
      "cell_type": "code",
      "source": [
        "# identity matrix\n",
        "\n",
        "f=np.eye(3)\n",
        "print(f)"
      ],
      "metadata": {
        "colab": {
          "base_uri": "https://localhost:8080/"
        },
        "id": "v3cWUm7urd-k",
        "outputId": "d6c9efd2-f155-4637-aed7-00488ac6c386"
      },
      "execution_count": 13,
      "outputs": [
        {
          "output_type": "stream",
          "name": "stdout",
          "text": [
            "[[1. 0. 0.]\n",
            " [0. 1. 0.]\n",
            " [0. 0. 1.]]\n"
          ]
        }
      ]
    },
    {
      "cell_type": "code",
      "source": [
        "# array with a range\n",
        "\n",
        "g=np.arange(0,10,2) #start,stop,step\n",
        "print(g)"
      ],
      "metadata": {
        "colab": {
          "base_uri": "https://localhost:8080/"
        },
        "id": "PTr2h4FLtEdU",
        "outputId": "34c07a4c-033a-4fd7-dcdc-09d4f93be1ee"
      },
      "execution_count": 14,
      "outputs": [
        {
          "output_type": "stream",
          "name": "stdout",
          "text": [
            "[0 2 4 6 8]\n"
          ]
        }
      ]
    },
    {
      "cell_type": "markdown",
      "source": [
        "\n",
        "\n",
        "> # Array Attributes\n",
        "- Shape : arr.shape (mXn)\n",
        "- Size : arr.size (no of elements)\n",
        "- Data Type : arr.dtype (type of elements)\n",
        "- Number of dimensions : arr.ndim ( 1D, 2D,..)\n",
        "\n"
      ],
      "metadata": {
        "id": "4vl2y9bMtQFt"
      }
    },
    {
      "cell_type": "code",
      "source": [
        "# shape\n",
        "\n",
        "arr=np.array([[1,2,3],[4,5,6]])\n",
        "print(\"Shape : \",arr.shape)"
      ],
      "metadata": {
        "colab": {
          "base_uri": "https://localhost:8080/"
        },
        "id": "XaCyHipZtuO0",
        "outputId": "986841ed-27db-4a92-cff5-f8d204d9fe88"
      },
      "execution_count": 15,
      "outputs": [
        {
          "output_type": "stream",
          "name": "stdout",
          "text": [
            "Shape :  (2, 3)\n"
          ]
        }
      ]
    },
    {
      "cell_type": "code",
      "source": [
        "# Size\n",
        "\n",
        "arr = np.array([[1, 2, 3], [4, 5, 6]])\n",
        "print(\"Size : \",arr.size)"
      ],
      "metadata": {
        "colab": {
          "base_uri": "https://localhost:8080/"
        },
        "id": "JY_yudSLt5Qc",
        "outputId": "ac715d62-0563-41ad-a6c8-246c178148af"
      },
      "execution_count": 16,
      "outputs": [
        {
          "output_type": "stream",
          "name": "stdout",
          "text": [
            "Size :  6\n"
          ]
        }
      ]
    },
    {
      "cell_type": "code",
      "source": [
        "# Data type\n",
        "\n",
        "arr = np.array([[1, 2, 3], [4, 5, 6]])\n",
        "print(\"Data Type : \",arr.dtype)"
      ],
      "metadata": {
        "colab": {
          "base_uri": "https://localhost:8080/"
        },
        "id": "M-YQUJMnt9Xc",
        "outputId": "3faad22b-7363-4361-8512-3372c4af5c21"
      },
      "execution_count": 17,
      "outputs": [
        {
          "output_type": "stream",
          "name": "stdout",
          "text": [
            "Data Type :  int64\n"
          ]
        }
      ]
    },
    {
      "cell_type": "code",
      "source": [
        "# Number of dimensions\n",
        "\n",
        "arr = np.array([[1, 2, 3], [4, 5, 6]])\n",
        "print(\"Number of dimensions : \",arr.ndim)"
      ],
      "metadata": {
        "colab": {
          "base_uri": "https://localhost:8080/"
        },
        "id": "2ogYBtcwuBLs",
        "outputId": "a64b5601-7ecb-4a9e-e3c2-e07befd8c6d4"
      },
      "execution_count": 18,
      "outputs": [
        {
          "output_type": "stream",
          "name": "stdout",
          "text": [
            "Number of dimensions :  2\n"
          ]
        }
      ]
    },
    {
      "cell_type": "code",
      "source": [
        "# Mini Task : Print only 2 from [1, 2, 3], [4, 5, 6]\n",
        "\n",
        "\n",
        "arr = np.array([[1, 2, 3], [4, 5, 6]])\n",
        "print(arr[0, 1])\n"
      ],
      "metadata": {
        "colab": {
          "base_uri": "https://localhost:8080/"
        },
        "id": "5MQp5MAbuE7s",
        "outputId": "2b23b2e1-3786-4465-cc7f-0ccb72b1fbac"
      },
      "execution_count": 26,
      "outputs": [
        {
          "output_type": "stream",
          "name": "stdout",
          "text": [
            "2\n"
          ]
        }
      ]
    },
    {
      "cell_type": "code",
      "source": [
        "# Mini Task : Print only 6 from [1, 2, 3], [4, 5, 6]\n",
        "\n",
        "\n",
        "arr = np.array([[1, 2, 3], [4, 5, 6]])\n",
        "print(arr[1, 2])\n"
      ],
      "metadata": {
        "colab": {
          "base_uri": "https://localhost:8080/"
        },
        "id": "epYpY94jufR0",
        "outputId": "b26b1d88-86a4-4512-f17e-e9770cbed52b"
      },
      "execution_count": 27,
      "outputs": [
        {
          "output_type": "stream",
          "name": "stdout",
          "text": [
            "6\n"
          ]
        }
      ]
    },
    {
      "cell_type": "code",
      "source": [
        "# Mini Task : Print [2,3,5,6] from [1, 2, 3], [4, 5, 6]\n",
        "# `:` selects all rows, and `1:` selects columns from index 1 (second column) to the end.\n",
        "\n",
        "arr = np.array([[1, 2, 3], [4, 5, 6]])\n",
        "print(arr[:,1:])\n"
      ],
      "metadata": {
        "colab": {
          "base_uri": "https://localhost:8080/"
        },
        "id": "Mm-Ea2LbvHAE",
        "outputId": "f796b65a-4994-41af-ba88-390a35230557"
      },
      "execution_count": 30,
      "outputs": [
        {
          "output_type": "stream",
          "name": "stdout",
          "text": [
            "[[2 3]\n",
            " [5 6]]\n"
          ]
        }
      ]
    },
    {
      "cell_type": "code",
      "source": [
        "#  Mini task : take two arrays and make it into 1D array\n",
        "\n",
        "a=[1,2,3]\n",
        "b=[4,5,6]\n",
        "print(a)\n",
        "print(b)"
      ],
      "metadata": {
        "colab": {
          "base_uri": "https://localhost:8080/"
        },
        "id": "Au_m6Mq9vUaF",
        "outputId": "cded9fbf-2d8f-4efa-b776-ca1f071fcea4"
      },
      "execution_count": 45,
      "outputs": [
        {
          "output_type": "stream",
          "name": "stdout",
          "text": [
            "[1, 2, 3]\n",
            "[4, 5, 6]\n"
          ]
        }
      ]
    },
    {
      "cell_type": "markdown",
      "source": [
        "\n",
        "\n",
        "> # Matrix Operaions\n",
        "- concate\n",
        "- addition\n",
        "- multiplication\n",
        "-division\n",
        "-exponential\n",
        "-square root\n",
        "-logarithimic\n",
        "\n"
      ],
      "metadata": {
        "id": "RadEVOVjyLFW"
      }
    },
    {
      "cell_type": "code",
      "source": [
        "# concate\n",
        "\n",
        "c = np.concatenate((a, b))\n",
        "print(c)"
      ],
      "metadata": {
        "colab": {
          "base_uri": "https://localhost:8080/"
        },
        "id": "pIEHIJ2Jx-Nu",
        "outputId": "73a1ebd0-b5dc-4a19-f277-0eb561dbce40"
      },
      "execution_count": 46,
      "outputs": [
        {
          "output_type": "stream",
          "name": "stdout",
          "text": [
            "[1 2 3 4 5 6]\n"
          ]
        }
      ]
    },
    {
      "cell_type": "code",
      "source": [
        "# Addition of array\n",
        "\n",
        "\n",
        "c =np.add(a,b )\n",
        "print(c)"
      ],
      "metadata": {
        "colab": {
          "base_uri": "https://localhost:8080/"
        },
        "id": "fTV-sbhCwGwt",
        "outputId": "2a55c9d7-5afe-459b-d30d-d3a45b86f645"
      },
      "execution_count": 48,
      "outputs": [
        {
          "output_type": "stream",
          "name": "stdout",
          "text": [
            "[5 7 9]\n"
          ]
        }
      ]
    },
    {
      "cell_type": "code",
      "source": [
        "# Multiplication of array\n",
        "\n",
        "\n",
        "d =np.dot(a,b)\n",
        "print(d)"
      ],
      "metadata": {
        "colab": {
          "base_uri": "https://localhost:8080/"
        },
        "id": "9AuyPcipwQzl",
        "outputId": "edce0509-8dd5-4d64-a6e1-ac6f4480300d"
      },
      "execution_count": 49,
      "outputs": [
        {
          "output_type": "stream",
          "name": "stdout",
          "text": [
            "32\n"
          ]
        }
      ]
    },
    {
      "cell_type": "code",
      "source": [
        "#  Exponential\n",
        "\n",
        "e =np.exp(a)\n",
        "print(e)"
      ],
      "metadata": {
        "colab": {
          "base_uri": "https://localhost:8080/"
        },
        "id": "v5NHQYC-zdz_",
        "outputId": "80388269-0182-47c8-926f-6e8f1f3b66a2"
      },
      "execution_count": 54,
      "outputs": [
        {
          "output_type": "stream",
          "name": "stdout",
          "text": [
            "[ 2.71828183  7.3890561  20.08553692]\n"
          ]
        }
      ]
    },
    {
      "cell_type": "code",
      "source": [
        "# square root\n",
        "\n",
        "f =np.sqrt(a)\n",
        "print(f)"
      ],
      "metadata": {
        "colab": {
          "base_uri": "https://localhost:8080/"
        },
        "id": "mpmTgJtyzh_f",
        "outputId": "3c0891d3-34ee-48da-d31a-9aecbbb5f0e2"
      },
      "execution_count": 55,
      "outputs": [
        {
          "output_type": "stream",
          "name": "stdout",
          "text": [
            "[1.         1.41421356 1.73205081]\n"
          ]
        }
      ]
    },
    {
      "cell_type": "code",
      "source": [
        "# Logarithm\n",
        "\n",
        "g =np.log(a)\n",
        "print(g)"
      ],
      "metadata": {
        "colab": {
          "base_uri": "https://localhost:8080/"
        },
        "id": "fWwJf-BYzkyg",
        "outputId": "f3ef5e60-e50e-4251-ccbc-67c74cc16b15"
      },
      "execution_count": 56,
      "outputs": [
        {
          "output_type": "stream",
          "name": "stdout",
          "text": [
            "[0.         0.69314718 1.09861229]\n"
          ]
        }
      ]
    },
    {
      "cell_type": "markdown",
      "source": [
        "\n",
        "\n",
        "> # Plot representaion of arrays\n",
        "\n"
      ],
      "metadata": {
        "id": "vq89O0vJyrnm"
      }
    },
    {
      "cell_type": "code",
      "source": [
        "import matplotlib.pyplot as plt\n",
        "w=np.array([[1, 2, 3], [4, 5, 6]])\n",
        "q=np.array([[7,8,9], [10,11,12]])\n",
        "plt.plot(w)\n",
        "plt.plot(q)"
      ],
      "metadata": {
        "colab": {
          "base_uri": "https://localhost:8080/",
          "height": 482
        },
        "id": "UiP_QL45wm5N",
        "outputId": "03092438-17bb-4f59-b4c2-c6eb70747f2f"
      },
      "execution_count": 83,
      "outputs": [
        {
          "output_type": "execute_result",
          "data": {
            "text/plain": [
              "[<matplotlib.lines.Line2D at 0x7f616a591b90>,\n",
              " <matplotlib.lines.Line2D at 0x7f616a680450>,\n",
              " <matplotlib.lines.Line2D at 0x7f616a592350>]"
            ]
          },
          "metadata": {},
          "execution_count": 83
        },
        {
          "output_type": "display_data",
          "data": {
            "text/plain": [
              "<Figure size 640x480 with 1 Axes>"
            ],
            "image/png": "[encoded data removed]"
          },
          "metadata": {}
        }
      ]
    },
    {
      "cell_type": "markdown",
      "source": [
        "\n",
        "\n",
        "># Aggregate Functions :\n",
        "- mean : np.mean(arr)\n",
        "- sum : np.sum(arr)\n",
        "- standard deviation : np.std(arr)\n",
        "- max : np.max(arr)\n",
        "- min : np.min(arr)\n",
        "\n"
      ],
      "metadata": {
        "id": "wGsD4en4zuYH"
      }
    },
    {
      "cell_type": "code",
      "source": [
        "# mean\n",
        "\n",
        "arr = np.array([[1, 2, 3], [4, 5, 6]])\n",
        "print(\"Mean : \",np.mean(arr))"
      ],
      "metadata": {
        "colab": {
          "base_uri": "https://localhost:8080/"
        },
        "id": "BNyebsxHz39N",
        "outputId": "c420ec31-1698-463e-d929-fb3f30777491"
      },
      "execution_count": 63,
      "outputs": [
        {
          "output_type": "stream",
          "name": "stdout",
          "text": [
            "Mean :  3.5\n"
          ]
        }
      ]
    },
    {
      "cell_type": "code",
      "source": [
        "# sum\n",
        "\n",
        "arr = np.array([[1, 2, 3], [4, 5, 6]])\n",
        "print(\"Sum : \",np.sum(arr))"
      ],
      "metadata": {
        "colab": {
          "base_uri": "https://localhost:8080/"
        },
        "id": "uJkbFuykz7KW",
        "outputId": "028d604a-c9c2-4f33-99f2-5e509fc1e6fb"
      },
      "execution_count": 64,
      "outputs": [
        {
          "output_type": "stream",
          "name": "stdout",
          "text": [
            "Sum :  21\n"
          ]
        }
      ]
    },
    {
      "cell_type": "code",
      "source": [
        "# standard deviation\n",
        "\n",
        "arr = np.array([[1, 2, 3], [4, 5, 6]])\n",
        "print(\"Standard Deviation : \",np.std(arr))"
      ],
      "metadata": {
        "colab": {
          "base_uri": "https://localhost:8080/"
        },
        "id": "hVzQ-9DWz9Wu",
        "outputId": "e5e7d169-3a5f-4bb6-f891-4005fb02aaf9"
      },
      "execution_count": 65,
      "outputs": [
        {
          "output_type": "stream",
          "name": "stdout",
          "text": [
            "Standard Deviation :  1.707825127659933\n"
          ]
        }
      ]
    },
    {
      "cell_type": "code",
      "source": [
        "# max\n",
        "\n",
        "arr = np.array([[1, 2, 3], [4, 5, 6]])\n",
        "print(\"Max : \",np.max(arr))"
      ],
      "metadata": {
        "colab": {
          "base_uri": "https://localhost:8080/"
        },
        "id": "9MPL5pQf0B8e",
        "outputId": "2e5f7d6c-df8d-4baf-d134-603e648e187a"
      },
      "execution_count": 66,
      "outputs": [
        {
          "output_type": "stream",
          "name": "stdout",
          "text": [
            "Max :  6\n"
          ]
        }
      ]
    },
    {
      "cell_type": "code",
      "source": [
        "# min\n",
        "\n",
        "arr = np.array([[1, 2, 3], [4, 5, 6]])\n",
        "print(\"Min : \",np.min(arr))"
      ],
      "metadata": {
        "colab": {
          "base_uri": "https://localhost:8080/"
        },
        "id": "ZJwnJKPe0DdW",
        "outputId": "d24648f5-6a38-4521-969b-294cd6ab1d06"
      },
      "execution_count": 67,
      "outputs": [
        {
          "output_type": "stream",
          "name": "stdout",
          "text": [
            "Min :  1\n"
          ]
        }
      ]
    },
    {
      "cell_type": "markdown",
      "source": [
        "\n",
        "\n",
        "> # Reshaping Array\n",
        "- arr.reshape()\n",
        "-changes nXm to mXn\n",
        "\n"
      ],
      "metadata": {
        "id": "HMhSeWPc0sGA"
      }
    },
    {
      "cell_type": "code",
      "source": [
        "arr = np.array([[1, 2, 3], [4, 5, 6]])\n",
        "reshaped = arr.reshape(3, 2)\n",
        "\n",
        "print(\"Original array : \",arr)\n",
        "print(\"Reshaped array : \",reshaped)"
      ],
      "metadata": {
        "colab": {
          "base_uri": "https://localhost:8080/"
        },
        "id": "loNWVMfD0vWm",
        "outputId": "cf97d4b6-c8a3-4ade-c591-d101a9fe6211"
      },
      "execution_count": 68,
      "outputs": [
        {
          "output_type": "stream",
          "name": "stdout",
          "text": [
            "Original array ;  [[1 2 3]\n",
            " [4 5 6]]\n",
            "Reshaped array :  [[1 2]\n",
            " [3 4]\n",
            " [5 6]]\n"
          ]
        }
      ]
    },
    {
      "cell_type": "markdown",
      "source": [
        "\n",
        "\n",
        "> # Stacking and Splitting\n",
        "- a) Stacking :\n",
        "    - vertical stack : np.vstack()\n",
        "    -horizontal stack : np.hstack()\n",
        "- b) Splitting :\n",
        "    - np.array_split()"
      ],
      "metadata": {
        "id": "YTjeNTCx1Hsp"
      }
    },
    {
      "cell_type": "code",
      "source": [
        "# vertical stack\n",
        "\n",
        "a=np.array([1,2,3])\n",
        "b=np.array([4,5,6])\n",
        "\n",
        "print('Vertical stack : ',np.vstack((a,b)))"
      ],
      "metadata": {
        "colab": {
          "base_uri": "https://localhost:8080/"
        },
        "id": "s2kUJLvi1Wo2",
        "outputId": "4ec397a2-d27f-4a26-8821-52b0ccaed58e"
      },
      "execution_count": 70,
      "outputs": [
        {
          "output_type": "stream",
          "name": "stdout",
          "text": [
            "Vertical stack :  [[1 2 3]\n",
            " [4 5 6]]\n"
          ]
        }
      ]
    },
    {
      "cell_type": "code",
      "source": [
        "# horizontal stack\n",
        "\n",
        "a=np.array([1,2,3])\n",
        "b=np.array([4,5,6])\n",
        "\n",
        "print('Horizontal stack : ',np.hstack((a,b)))"
      ],
      "metadata": {
        "colab": {
          "base_uri": "https://localhost:8080/"
        },
        "id": "OBNo91CI1hBP",
        "outputId": "0f7c35dd-6235-4735-a7de-531758b5a9f4"
      },
      "execution_count": 71,
      "outputs": [
        {
          "output_type": "stream",
          "name": "stdout",
          "text": [
            "Horizontal stack :  [1 2 3 4 5 6]\n"
          ]
        }
      ]
    },
    {
      "cell_type": "code",
      "source": [
        "# splitting an array into 3 parts\n",
        "\n",
        "arr = np.array([1, 2, 3, 4, 5, 6])\n",
        "newarr = np.array_split(arr, 3)\n",
        "\n",
        "print(\"Splitting : \",newarr)"
      ],
      "metadata": {
        "colab": {
          "base_uri": "https://localhost:8080/"
        },
        "id": "nsqS1j8p1oCv",
        "outputId": "bb24d57f-92e5-476c-f47e-d10ea8d1c950"
      },
      "execution_count": 72,
      "outputs": [
        {
          "output_type": "stream",
          "name": "stdout",
          "text": [
            "Splitting :  [array([1, 2]), array([3, 4]), array([5, 6])]\n"
          ]
        }
      ]
    },
    {
      "cell_type": "markdown",
      "source": [
        "\n",
        "\n",
        "> # Copy and View\n",
        "- View shares the memory ( edits the original array as well as prints the new array with new value ) : arr.view()\n",
        "- Copy doesnt share the memory ( stores another copy of the array like a duplicate ) : arr.copy()\n",
        "\n"
      ],
      "metadata": {
        "id": "W0lklo-w2V0h"
      }
    },
    {
      "cell_type": "code",
      "source": [
        "# view\n",
        "\n",
        "arr= np.array([1, 2, 3, 4, 5])\n",
        "print(\"Original array : \",arr)\n",
        "x = arr.view()\n",
        "arr[0] = 42\n",
        "print(\"View array : \",x)"
      ],
      "metadata": {
        "colab": {
          "base_uri": "https://localhost:8080/"
        },
        "id": "ZHOxkbQv2e8_",
        "outputId": "18e2b749-bd78-4370-a1b0-ef128ccb1351"
      },
      "execution_count": 75,
      "outputs": [
        {
          "output_type": "stream",
          "name": "stdout",
          "text": [
            "Original array :  [1 2 3 4 5]\n",
            "View array :  [42  2  3  4  5]\n"
          ]
        }
      ]
    },
    {
      "cell_type": "code",
      "source": [
        "# copy\n",
        "\n",
        "arr = np.array([1, 2, 3, 4, 5])\n",
        "print(\"Original array : \",arr)\n",
        "arr[0] = 42\n",
        "x = arr.copy()\n",
        "print(\"Copy array : \",x)"
      ],
      "metadata": {
        "colab": {
          "base_uri": "https://localhost:8080/"
        },
        "id": "nOAs01do2i93",
        "outputId": "9865f879-d563-472d-b322-c4f3d3b7d7cd"
      },
      "execution_count": 78,
      "outputs": [
        {
          "output_type": "stream",
          "name": "stdout",
          "text": [
            "Original array :  [1 2 3 4 5]\n",
            "Copy array :  [42  2  3  4  5]\n"
          ]
        }
      ]
    },
    {
      "cell_type": "markdown",
      "source": [
        "\n",
        "\n",
        "> # Saving and Loading\n",
        "- a) Save to a file : np.save()\n",
        "- b) Load from a file : np.load()\n",
        "\n"
      ],
      "metadata": {
        "id": "3B1W1Us33OOR"
      }
    },
    {
      "cell_type": "code",
      "source": [
        "# save to a file\n",
        "\n",
        "arr = np.array([1, 2, 3, 4, 5])\n",
        "np.save('array.npy', arr)"
      ],
      "metadata": {
        "id": "LrnLoLon3Zg3"
      },
      "execution_count": 79,
      "outputs": []
    },
    {
      "cell_type": "code",
      "source": [
        "# load from a file\n",
        "\n",
        "loaded_arr = np.load('array.npy')\n",
        "print(loaded_arr)"
      ],
      "metadata": {
        "colab": {
          "base_uri": "https://localhost:8080/"
        },
        "id": "AXjOSYul3dBZ",
        "outputId": "c4dc0b98-ac67-4bab-fcc2-59c8d46ed309"
      },
      "execution_count": 80,
      "outputs": [
        {
          "output_type": "stream",
          "name": "stdout",
          "text": [
            "[1 2 3 4 5]\n"
          ]
        }
      ]
    },
    {
      "cell_type": "markdown",
      "source": [
        "\n",
        "\n",
        "> # Tasks\n",
        "    1. Array Creation\n",
        "        ◦ Create a 1D array of numbers from 10 to 50.\n",
        "        ◦ Create a 3x3 array of random numbers between 0 and 1.\n",
        "    2. Array Attributes\n",
        "        ◦ Find the shape, size, and data type of the array you created in the previous task.\n",
        "    3. Basic Operations\n",
        "        ◦ Add 5 to every element of a 1D array.\n",
        "        ◦ Multiply two 2D arrays element-wise.\n",
        "    4. Indexing and Slicing\n",
        "        ◦ Create a 5x5 array of integers from 1 to 25. Extract:\n",
        "            ▪ The first row.\n",
        "            ▪ The last column.\n",
        "            ▪ A subarray of the first three rows and first two columns.\n",
        "    5. Aggregation\n",
        "        ◦ Create a 10-element array of random integers between 1 and 100. Find:\n",
        "            ▪ The maximum value.\n",
        "            ▪ The minimum value.\n",
        "            ▪ The mean and standard deviation.\n",
        "    6. Reshaping\n",
        "        ◦ Convert a 1D array of numbers from 1 to 12 into a 3x4 matrix.\n",
        "    7. Broadcasting\n",
        "        ◦ Create a 3x3 matrix of ones. Add a 1D array [1, 2, 3] to each row.\n",
        "    8. Filtering\n",
        "        ◦ Create a 1D array of random integers between 1 and 50. Extract all elements that are divisible by 5.\n",
        "    9. Matrix Multiplication\n",
        "        ◦ Create two 2x2 matrices and perform matrix multiplication.\n",
        "    10. Advanced Indexing\n",
        "        ◦ Given a 4x4 array, use fancy indexing to extract the diagonal elements.\n",
        "\n"
      ],
      "metadata": {
        "id": "H69YOmXD4Zw5"
      }
    },
    {
      "cell_type": "code",
      "source": [],
      "metadata": {
        "id": "rMYa1plI4-BH"
      },
      "execution_count": null,
      "outputs": []
    }
  ]
}