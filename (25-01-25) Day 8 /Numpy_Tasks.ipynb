{
  "nbformat": 4,
  "nbformat_minor": 0,
  "metadata": {
    "colab": {
      "provenance": []
    },
    "kernelspec": {
      "name": "python3",
      "display_name": "Python 3"
    },
    "language_info": {
      "name": "python"
    }
  },
  "cells": [
    {
      "cell_type": "markdown",
      "source": [
        "\n",
        "\n",
        ">\n",
        "\n",
        "> # Tasks\n",
        "    1. Array Creation\n",
        "        ◦ Create a 1D array of numbers from 10 to 50.\n",
        "        ◦ Create a 3x3 array of random numbers between 0 and 1.\n",
        "    2. Array Attributes\n",
        "        ◦ Find the shape, size, and data type of the array you created in the previous task.\n",
        "    3. Basic Operations\n",
        "        ◦ Add 5 to every element of a 1D array.\n",
        "        ◦ Multiply two 2D arrays element-wise.\n",
        "    4. Indexing and Slicing\n",
        "        ◦ Create a 5x5 array of integers from 1 to 25. Extract:\n",
        "            ▪ The first row.\n",
        "            ▪ The last column.\n",
        "            ▪ A subarray of the first three rows and first two columns.\n",
        "    5. Aggregation\n",
        "        ◦ Create a 10-element array of random integers between 1 and 100. Find:\n",
        "            ▪ The maximum value.\n",
        "            ▪ The minimum value.\n",
        "            ▪ The mean and standard deviation.\n",
        "    6. Reshaping\n",
        "        ◦ Convert a 1D array of numbers from 1 to 12 into a 3x4 matrix.\n",
        "    7. Broadcasting\n",
        "        ◦ Create a 3x3 matrix of ones. Add a 1D array [1, 2, 3] to each row.\n",
        "    8. Filtering\n",
        "        ◦ Create a 1D array of random integers between 1 and 50. Extract all elements that are divisible by 5.\n",
        "    9. Matrix Multiplication\n",
        "        ◦ Create two 2x2 matrices and perform matrix multiplication.\n",
        "    10. Advanced Indexing\n",
        "        ◦ Given a 4x4 array, use fancy indexing to extract the diagonal elements.\n",
        "\n",
        "\n",
        "\n"
      ],
      "metadata": {
        "id": "Na1Jb9fBNc87"
      }
    },
    {
      "cell_type": "code",
      "source": [
        "# 1. Array Creation\n",
        "#     ◦ Create a 1D array of numbers from 10 to 50.\n",
        "#     ◦ Create a 3x3 array of random numbers between 0 and 1.\n",
        "\n",
        "import numpy as np\n",
        "array_1d = np.arange(10, 51)\n",
        "array_2d_random = np.random.rand(3, 3)\n",
        "\n",
        "print(array_1d)\n",
        "print(array_2d_random)"
      ],
      "metadata": {
        "colab": {
          "base_uri": "https://localhost:8080/"
        },
        "id": "vUG2GATrNe5Q",
        "outputId": "494e0e28-5206-4fd8-bd07-4cfd3728044c"
      },
      "execution_count": 1,
      "outputs": [
        {
          "output_type": "stream",
          "name": "stdout",
          "text": [
            "[10 11 12 13 14 15 16 17 18 19 20 21 22 23 24 25 26 27 28 29 30 31 32 33\n",
            " 34 35 36 37 38 39 40 41 42 43 44 45 46 47 48 49 50]\n",
            "[[0.13674841 0.23319037 0.21382533]\n",
            " [0.98661015 0.56932744 0.46176327]\n",
            " [0.55736112 0.76963824 0.99615133]]\n"
          ]
        }
      ]
    },
    {
      "cell_type": "code",
      "source": [
        "# 2. Array Attributes\n",
        "#     ◦ Find the shape, size, and data type of the array you created in the previous task.\n",
        "\n",
        "print(array_1d.shape)\n",
        "print(array_1d.size)\n",
        "print(array_1d.dtype)\n"
      ],
      "metadata": {
        "colab": {
          "base_uri": "https://localhost:8080/"
        },
        "id": "VDniejV3Nhgg",
        "outputId": "753bc831-942c-4df2-8dd7-b55f0d3b5a16"
      },
      "execution_count": 2,
      "outputs": [
        {
          "output_type": "stream",
          "name": "stdout",
          "text": [
            "(41,)\n",
            "41\n",
            "int64\n"
          ]
        }
      ]
    },
    {
      "cell_type": "code",
      "source": [
        "# 3. Basic Operations\n",
        "#     ◦ Add 5 to every element of a 1D array.\n",
        "#     ◦ Multiply two 2D arrays element-wise.\n",
        "\n",
        "array_1d_plus_5 = array_1d + 5\n",
        "array_2d_1 = np.random.rand(2, 2)\n",
        "array_2d_2 = np.random.rand(2, 2)\n",
        "elementwise_multiply = array_2d_1 * array_2d_2\n",
        "\n",
        "print(array_1d_plus_5)\n",
        "print(elementwise_multiply)\n"
      ],
      "metadata": {
        "colab": {
          "base_uri": "https://localhost:8080/"
        },
        "id": "Ao2QI49ZNi_w",
        "outputId": "06e681b4-6ba8-4172-b24c-38cda0469b63"
      },
      "execution_count": 3,
      "outputs": [
        {
          "output_type": "stream",
          "name": "stdout",
          "text": [
            "[15 16 17 18 19 20 21 22 23 24 25 26 27 28 29 30 31 32 33 34 35 36 37 38\n",
            " 39 40 41 42 43 44 45 46 47 48 49 50 51 52 53 54 55]\n",
            "[[9.30600749e-05 9.24042039e-02]\n",
            " [2.75886957e-01 4.89960739e-01]]\n"
          ]
        }
      ]
    },
    {
      "cell_type": "code",
      "source": [
        "# 4. Indexing and Slicing\n",
        "#     ◦ Create a 5x5 array of integers from 1 to 25. Extract:\n",
        "#         ▪ The first row.\n",
        "#         ▪ The last column.\n",
        "#         ▪ A subarray of the first three rows and first two columns.\n",
        "\n",
        "array_5x5 = np.arange(1, 26).reshape(5, 5)\n",
        "\n",
        "first_row = array_5x5[0, :]\n",
        "last_column = array_5x5[:, -1]\n",
        "subarray = array_5x5[:3, :2]\n",
        "\n",
        "print(first_row)\n",
        "print(last_column)\n",
        "print(subarray)\n"
      ],
      "metadata": {
        "colab": {
          "base_uri": "https://localhost:8080/"
        },
        "id": "7yu9CcMjNkUw",
        "outputId": "4d086009-d1d5-4a82-d0fa-c17b534c7966"
      },
      "execution_count": 4,
      "outputs": [
        {
          "output_type": "stream",
          "name": "stdout",
          "text": [
            "[1 2 3 4 5]\n",
            "[ 5 10 15 20 25]\n",
            "[[ 1  2]\n",
            " [ 6  7]\n",
            " [11 12]]\n"
          ]
        }
      ]
    },
    {
      "cell_type": "code",
      "source": [
        "# 5. Aggregation\n",
        "#     ◦ Create a 10-element array of random integers between 1 and 100. Find:\n",
        "#         ▪ The maximum value.\n",
        "#         ▪ The minimum value.\n",
        "#         ▪ The mean and standard deviation.\n",
        "\n",
        "random_integers = np.random.randint(1, 101, 10)\n",
        "\n",
        "print(np.max(random_integers))\n",
        "print(np.min(random_integers))\n",
        "print(np.mean(random_integers))\n",
        "print(np.std(random_integers))\n"
      ],
      "metadata": {
        "colab": {
          "base_uri": "https://localhost:8080/"
        },
        "id": "9_PggPcfNl_g",
        "outputId": "5a419504-96bb-415b-88e2-a6db5725e13a"
      },
      "execution_count": 5,
      "outputs": [
        {
          "output_type": "stream",
          "name": "stdout",
          "text": [
            "91\n",
            "3\n",
            "41.9\n",
            "23.496595498071628\n"
          ]
        }
      ]
    },
    {
      "cell_type": "code",
      "source": [
        "# 6. Reshaping\n",
        "#     ◦ Convert a 1D array of numbers from 1 to 12 into a 3x4 matrix.\n",
        "\n",
        "array_1d_reshaped = np.arange(1, 13).reshape(3, 4)\n",
        "print(array_1d_reshaped)\n"
      ],
      "metadata": {
        "colab": {
          "base_uri": "https://localhost:8080/"
        },
        "id": "owpbLoKWNnhg",
        "outputId": "5cb4f2bb-f48a-4d35-e186-af72fce8962a"
      },
      "execution_count": 6,
      "outputs": [
        {
          "output_type": "stream",
          "name": "stdout",
          "text": [
            "[[ 1  2  3  4]\n",
            " [ 5  6  7  8]\n",
            " [ 9 10 11 12]]\n"
          ]
        }
      ]
    },
    {
      "cell_type": "code",
      "source": [
        "# 7. Broadcasting\n",
        "#     ◦ Create a 3x3 matrix of ones. Add a 1D array [1, 2, 3] to each row.\n",
        "\n",
        "matrix_ones = np.ones((3, 3))\n",
        "array_1d = np.array([1, 2, 3])\n",
        "broadcasted_addition = matrix_ones + array_1d\n",
        "\n",
        "print(broadcasted_addition)\n"
      ],
      "metadata": {
        "colab": {
          "base_uri": "https://localhost:8080/"
        },
        "id": "lbQw04bVNpHv",
        "outputId": "5e05282b-3ad4-4dbe-ea88-2f6c7701cc4b"
      },
      "execution_count": 7,
      "outputs": [
        {
          "output_type": "stream",
          "name": "stdout",
          "text": [
            "[[2. 3. 4.]\n",
            " [2. 3. 4.]\n",
            " [2. 3. 4.]]\n"
          ]
        }
      ]
    },
    {
      "cell_type": "code",
      "source": [
        "# 8. Filtering\n",
        "#     ◦ Create a 1D array of random integers between 1 and 50. Extract all elements that are divisible by 5.\n",
        "\n",
        "random_integers_1d = np.random.randint(1, 51, 10)\n",
        "filtered_elements = random_integers_1d[random_integers_1d % 5 == 0]\n",
        "\n",
        "print(filtered_elements)\n"
      ],
      "metadata": {
        "colab": {
          "base_uri": "https://localhost:8080/"
        },
        "id": "ahv5S1k_Nqrw",
        "outputId": "3a51afa2-974d-4d0f-9970-14e6c1d98f0a"
      },
      "execution_count": 8,
      "outputs": [
        {
          "output_type": "stream",
          "name": "stdout",
          "text": [
            "[40 45 20 45]\n"
          ]
        }
      ]
    },
    {
      "cell_type": "code",
      "source": [
        "# 9. Matrix Multiplication\n",
        "#     ◦ Create two 2x2 matrices and perform matrix multiplication.\n",
        "\n",
        "matrix_1 = np.random.rand(2, 2)\n",
        "matrix_2 = np.random.rand(2, 2)\n",
        "matrix_multiplication = np.dot(matrix_1, matrix_2)\n",
        "\n",
        "print(matrix_multiplication)\n"
      ],
      "metadata": {
        "colab": {
          "base_uri": "https://localhost:8080/"
        },
        "id": "5EnVZIVUNsTP",
        "outputId": "1cfe0e84-4e0c-4272-fffd-961ec18aab4c"
      },
      "execution_count": 9,
      "outputs": [
        {
          "output_type": "stream",
          "name": "stdout",
          "text": [
            "[[0.54270999 0.59027161]\n",
            " [0.25291694 0.29822828]]\n"
          ]
        }
      ]
    },
    {
      "cell_type": "code",
      "source": [
        "# 10. Advanced Indexing\n",
        "#     ◦ Given a 4x4 array, use fancy indexing to extract the diagonal elements.\n",
        "\n",
        "array_4x4 = np.random.rand(4, 4)\n",
        "diagonal_elements = np.diagonal(array_4x4)\n",
        "\n",
        "print(diagonal_elements)\n"
      ],
      "metadata": {
        "colab": {
          "base_uri": "https://localhost:8080/"
        },
        "id": "l7euYn0NNt4D",
        "outputId": "76ba0acb-20e3-4326-fa61-1e79945c41f6"
      },
      "execution_count": 10,
      "outputs": [
        {
          "output_type": "stream",
          "name": "stdout",
          "text": [
            "[0.20478146 0.69654639 0.6236361  0.00607745]\n"
          ]
        }
      ]
    }
  ]
}