{
  "nbformat": 4,
  "nbformat_minor": 0,
  "metadata": {
    "colab": {
      "provenance": []
    },
    "kernelspec": {
      "name": "python3",
      "display_name": "Python 3"
    },
    "language_info": {
      "name": "python"
    }
  },
  "cells": [
    {
      "cell_type": "markdown",
      "source": [
        "\n",
        "\n",
        "> What is an outlier ?\n",
        "- An outlier is a data point in a data set the is distant from all other observations. A data point that lies outside the overall distribution of the dataset.\n",
        "\n",
        "> Criteria to identify an outlier?\n",
        "- Data point that falls outside of 1.5 yimes of an interquartile range above the 3rd quartile and below the 1st quartile\n",
        "- Data point that falls outside of 3 standard derivations. We can use a Z-score\n",
        "falls outside of 2 standard deviation.\n",
        "\n",
        "\n",
        "> Reason for outliers existence :\n",
        "- variability in the data\n",
        "- an experimental measurement error\n",
        "\n",
        "\n",
        "> Impacts of outliers in a dataset :\n",
        "- It causes various problems during our statistical analysis\n",
        "- It may cause a significant impact on the mean and the standar deviation\n",
        "\n",
        "> Various ways of finding outliers\n",
        "- Using scatter plots\n",
        "- Box plot\n",
        "- Using 2-score\n",
        "- Using the IQR interquantile range\n",
        "\n",
        "\n",
        "\n",
        "\n",
        "\n",
        "\n",
        "\n",
        "\n",
        "\n",
        "\n",
        "\n"
      ],
      "metadata": {
        "id": "h_6kKOFAi8y2"
      }
    },
    {
      "cell_type": "markdown",
      "source": [
        "\n",
        "\n",
        "> **Steps :**\n",
        "\n"
      ],
      "metadata": {
        "id": "MXQwdnU0nfHj"
      }
    },
    {
      "cell_type": "markdown",
      "source": [
        "\n",
        "\n",
        "> **Step 1 : Create a sample dataset**\n",
        "\n"
      ],
      "metadata": {
        "id": "TDEvo305nORD"
      }
    },
    {
      "cell_type": "code",
      "source": [
        "# import libraries\n",
        "import numpy as np\n",
        "import pandas as pd\n",
        "import matplotlib.pyplot as plt\n",
        "import seaborn as sns\n",
        "from scipy.stats import zscore"
      ],
      "metadata": {
        "id": "OUAB7EE9k1JN"
      },
      "execution_count": 1,
      "outputs": []
    },
    {
      "cell_type": "code",
      "source": [
        "# creating a sample dataset\n",
        "np.random.seed(42)\n",
        "data = np.random.normal(loc=50,scale =10, size=100) # normal dtaa with mean=50, std=10\n",
        "outliers = np.array([10,20,30,40,50,60,70,80,90,100,110]) # outliers\n",
        "data = np.concatenate((data,outliers)) # adding outliers to the dataset"
      ],
      "metadata": {
        "id": "xeoT_ptnlLlN"
      },
      "execution_count": 33,
      "outputs": []
    },
    {
      "cell_type": "code",
      "source": [
        "# creating a dataframe\n",
        "df= pd.DataFrame(data,columns=['Values'])\n",
        "print(df.head())"
      ],
      "metadata": {
        "colab": {
          "base_uri": "https://localhost:8080/"
        },
        "id": "adB62j_JmKJ-",
        "outputId": "5f4f99d5-d6cf-4390-82df-b145bfb51b98"
      },
      "execution_count": 34,
      "outputs": [
        {
          "output_type": "stream",
          "name": "stdout",
          "text": [
            "      Values\n",
            "0  54.967142\n",
            "1  48.617357\n",
            "2  56.476885\n",
            "3  65.230299\n",
            "4  47.658466\n"
          ]
        }
      ]
    },
    {
      "cell_type": "code",
      "source": [
        "print(df.tail())"
      ],
      "metadata": {
        "colab": {
          "base_uri": "https://localhost:8080/"
        },
        "id": "BKbz5eDWmV4r",
        "outputId": "2aef187c-99b1-4f51-fc78-53d73b27cd42"
      },
      "execution_count": 35,
      "outputs": [
        {
          "output_type": "stream",
          "name": "stdout",
          "text": [
            "     Values\n",
            "106    70.0\n",
            "107    80.0\n",
            "108    90.0\n",
            "109   100.0\n",
            "110   110.0\n"
          ]
        }
      ]
    },
    {
      "cell_type": "markdown",
      "source": [
        "\n",
        "\n",
        "> **Steps 2 : Detecting oiutliers**\n",
        "\n"
      ],
      "metadata": {
        "id": "BmbVrqPrnE28"
      }
    },
    {
      "cell_type": "markdown",
      "source": [
        "\n",
        "\n",
        "> **Using scatter plot : A scatter plot helps visualize identify extreme values.**\n",
        "\n"
      ],
      "metadata": {
        "id": "74yasjIqnk_j"
      }
    },
    {
      "cell_type": "code",
      "source": [
        "plt.figure(figsize=(8,5))\n",
        "plt.scatter(range(len(df)),df['Values'],color='blue',label='Data Points')\n",
        "plt.axhline(y=df['Values'].mean(),color='red',linestyle='--',label='Mean')\n",
        "# plt.axhline(y=df['Values'].median(),color='green',linestyle='--',label='Median')\n",
        "plt.title('Scatter Plot For Oulier Detection')\n",
        "plt.xlabel('Index')\n",
        "plt.ylabel('Values')\n",
        "plt.legend()\n",
        "plt.show()"
      ],
      "metadata": {
        "colab": {
          "base_uri": "https://localhost:8080/",
          "height": 449
        },
        "id": "Qp3AN8b3nogq",
        "outputId": "291a9ca7-dbfd-470f-cc08-6f67485be43a"
      },
      "execution_count": 36,
      "outputs": [
        {
          "output_type": "display_data",
          "data": {
            "text/plain": [
              "<Figure size 800x500 with 1 Axes>"
            ],
            "image/png": "[encoded data removed]"
          },
          "metadata": {}
        }
      ]
    },
    {
      "cell_type": "markdown",
      "source": [
        "\n",
        "\n",
        "> **Box plot : A box plot is useful for spotting extreme values using quartiles.**\n",
        "\n"
      ],
      "metadata": {
        "id": "8bMd8jfKprhT"
      }
    },
    {
      "cell_type": "code",
      "source": [
        "plt.figure(figsize=(8,5))\n",
        "sns.boxplot(data=df,y='Values')\n",
        "plt.title('Box Plot For Oulier Detection')\n",
        "plt.show()"
      ],
      "metadata": {
        "colab": {
          "base_uri": "https://localhost:8080/",
          "height": 415
        },
        "id": "RCztk6ICp0UJ",
        "outputId": "3ae792b5-a940-42ff-8f8a-87ac74c75926"
      },
      "execution_count": 38,
      "outputs": [
        {
          "output_type": "display_data",
          "data": {
            "text/plain": [
              "<Figure size 800x500 with 1 Axes>"
            ],
            "image/png": "[encoded data removed]"
          },
          "metadata": {}
        }
      ]
    },
    {
      "cell_type": "markdown",
      "source": [
        "\n",
        "\n",
        "> **Z - Score** : The z-score method formula is z = x - mue / sigma,where\n",
        "- x - data point\n",
        "- mue - mean of the dataset\n",
        "- sigma - standard deviation of the dataset\n",
        "\n"
      ],
      "metadata": {
        "id": "xFS6BZ_NrKmy"
      }
    },
    {
      "cell_type": "markdown",
      "source": [
        "\n",
        "\n",
        "> Steps :\n",
        "- Compute the z score for each data point.\n",
        "- If zscore > 3 or zscore < -3, mark it as an outlier.\n",
        "\n",
        "\n",
        "\n",
        "\n"
      ],
      "metadata": {
        "id": "NgBXMjdrsgOR"
      }
    },
    {
      "cell_type": "code",
      "source": [
        "df['Z-Score']=zscore(df['Values'])\n",
        "df['Outlier']=df['Z-Score'].apply(lambda x:'Outlier' if abs(x)>3 else 'Normal')\n",
        "print(df[df['Outlier']== 'Outlier'])"
      ],
      "metadata": {
        "colab": {
          "base_uri": "https://localhost:8080/"
        },
        "id": "Rd9PUXwhsDXA",
        "outputId": "eacd0db8-d1c8-49a6-f553-dda2c65767b0"
      },
      "execution_count": 40,
      "outputs": [
        {
          "output_type": "stream",
          "name": "stdout",
          "text": [
            "     Values   Z-Score  Outlier\n",
            "109   100.0  3.686593  Outlier\n",
            "110   110.0  4.424730  Outlier\n"
          ]
        }
      ]
    },
    {
      "cell_type": "markdown",
      "source": [
        "\n",
        "\n",
        "> **Interquatile Range (IQR) Method :**\n",
        "- Formula : IQR = Q3 - Q1\n",
        "Steps :\n",
        "- Calculate Q1 (25th percentile) and Q3 (75th percentile)\n",
        "- Compute IQR = Q3 - Q1\n",
        "- Define lower and upper bounds :\n",
        "  - Lower Bound = Q1 - 1.5 * IQR\n",
        "  - Upper Bound = Q3 + 1.5 * IQR\n",
        "- Any value outside these bounds in outlier"
      ],
      "metadata": {
        "id": "L-ZlDf74s_fw"
      }
    },
    {
      "cell_type": "code",
      "source": [
        "Q1 = df['Values'].quantile(0.25)\n",
        "Q3 = df[\"Values\"].quantile(0.75)\n",
        "IQR = Q3-Q1\n",
        "# defining bounds\n",
        "lower_bound = Q1 - 1.5 * IQR\n",
        "upper_bound = Q3 + 1.5 * IQR\n",
        "# identifing outliers\n",
        "df['Ouliers_IQR'] = df['Values'].apply(lambda x: 'Outlier' if x < lower_bound or x > upper_bound else 'Normal')\n",
        "print(df[df['Ouliers_IQR'] == 'Outlier'])"
      ],
      "metadata": {
        "colab": {
          "base_uri": "https://localhost:8080/"
        },
        "id": "s78MsHUOuTt_",
        "outputId": "fb955c0c-b4a5-4d1e-b8a3-e130c802208e"
      },
      "execution_count": 42,
      "outputs": [
        {
          "output_type": "stream",
          "name": "stdout",
          "text": [
            "         Values   Z-Score  Outlier Ouliers_IQR\n",
            "74    23.802549 -1.937823   Normal     Outlier\n",
            "100   10.000000 -2.956640   Normal     Outlier\n",
            "101   20.000000 -2.218503   Normal     Outlier\n",
            "107   80.000000  2.210319   Normal     Outlier\n",
            "108   90.000000  2.948456   Normal     Outlier\n",
            "109  100.000000  3.686593  Outlier     Outlier\n",
            "110  110.000000  4.424730  Outlier     Outlier\n"
          ]
        }
      ]
    },
    {
      "cell_type": "markdown",
      "source": [
        "\n",
        "\n",
        "> Finding summary\n",
        "- 1)scatter plot - Outliers appear far from the main cluster\n",
        "- 2)Box plot - Outliers are outside the whiskers\n",
        "- 3)Z-score - values with Z>3 or Z<-3 are outliers\n",
        "- 4)IQR method - values outside [Q1-1.5IQR Q3+1.5IQR] are outliers\n",
        "\n",
        "\n",
        "Finding Outliers Using the IQR Method with a 5-Number Summary The 5-number summary consists of:\n",
        "- Minimum (Q0) → The smallest value in the dataset.\n",
        "- First Quartile (Q1) → The 25th percentile (lower quartile).\n",
        "- Median (Q2) → The 50th percentile (middle value).\n",
        "-Third Quartile (Q3) → The 75th percentile (upper quartile).\n",
        "- Maximum (Q4) → The largest value in the dataset. has context menu\n",
        "- The Interquartile Range (IQR) is calculated as:\n",
        "     -IQR=Q3−Q1\n",
        "- Any value outside the range:\n",
        "- [Q1−1.5×IQR,Q3+1.5×IQR] is considered an outlier.\n",
        "- Let's generate a dataset, compute the 5-number summary, and find the outliers using the IQR\n",
        "\n"
      ],
      "metadata": {
        "id": "eEVBQsyT4rH7"
      }
    },
    {
      "cell_type": "code",
      "source": [
        "import numpy as np\n",
        "np.random.seed(42)\n",
        "data = np.random.normal(loc=50,scale=10,size=100)\n",
        "outliers = np.array([10,110,5,120])\n",
        "data = np.concatenate([data,outliers])\n",
        "\n",
        "Q1 = np.percentile(data,25)\n",
        "Q2 = np.median(data)\n",
        "Q3 = np.percentile(data,75)\n",
        "min_value= np.min(data)\n",
        "max_value = np.max(data)\n",
        "\n",
        "IQR = Q3 -Q1\n",
        "lower_bound = Q1 - 1.5 * IQR\n",
        "upper_bound = Q3 +1.5 * IQR\n",
        "\n",
        "outliers = data[(data < lower_bound) | (data > upper_bound)]\n",
        "\n",
        "print(f\"5-number summary : \\n Min:{min_value}, Q1:{Q1}, Median (Q2)  : {Q2}, q3 : {Q3}, MAX:{max_value}\")\n",
        "print(f\"IQR : {IQR}\")\n",
        "print(f'lower bound : {lower_bound}, upper boundf:{upper_bound}')\n",
        "print(f\"outliers : {outliers}\")"
      ],
      "metadata": {
        "colab": {
          "base_uri": "https://localhost:8080/"
        },
        "id": "ZJJEPloju0U_",
        "outputId": "9e194d60-5436-4e26-faf2-c4e8da50d50a"
      },
      "execution_count": 43,
      "outputs": [
        {
          "output_type": "stream",
          "name": "stdout",
          "text": [
            "5-number summary : \n",
            " Min:5.0, Q1:43.874401021766715, Median (Q2)  : 48.73043708220287, q3 : 55.00852473036764, MAX:120.0\n",
            "IQR : 11.134123708600924\n",
            "lower bound : 27.17321545886533, upper boundf:71.70971029326903\n",
            "outliers : [ 23.80254896  10.         110.           5.         120.        ]\n"
          ]
        }
      ]
    },
    {
      "cell_type": "markdown",
      "source": [
        "\n",
        "\n",
        "> Blancing a dataset with downsampling :\n",
        "- Imagine we have a dataset for a binary classification task where the class labels are imbalanced, and majority class to balance the dataset\n",
        "\n"
      ],
      "metadata": {
        "id": "O34jXXZDAjPu"
      }
    },
    {
      "cell_type": "code",
      "source": [
        "import pandas as pd\n",
        "from sklearn.utils import resample\n",
        "df= pd.DataFrame({\n",
        "'Age' : [22,25,27,28,30,35,40,45,50,55,60,65,70],\n",
        "'Income':[2200,2500,2700,3200,3500,3800,4000,4200,4300,4500,5000,5500,6000],\n",
        "'Class':['High','Low','Low','High','High','Low','High','High','Low','Low','High','High','Low']\n",
        "})"
      ],
      "metadata": {
        "id": "6chwFnrj4bsC"
      },
      "execution_count": 45,
      "outputs": []
    },
    {
      "cell_type": "markdown",
      "source": [
        "\n",
        "\n",
        "> High Class has 7 instances\n",
        "\n",
        "> Low class has 6 instances\n",
        "\n",
        "\n",
        "\n"
      ],
      "metadata": {
        "id": "ELUsdYCBBGNO"
      }
    },
    {
      "cell_type": "code",
      "source": [
        "df_high = df[df['Class']=='High']\n",
        "df_low = df[df['Class']=='Low']\n",
        "print(df_high)\n",
        "print(df_low)"
      ],
      "metadata": {
        "colab": {
          "base_uri": "https://localhost:8080/"
        },
        "id": "EJYTFB8wAHbm",
        "outputId": "ed6bf985-e42e-45f6-8787-ecd5a49b5c56"
      },
      "execution_count": 49,
      "outputs": [
        {
          "output_type": "stream",
          "name": "stdout",
          "text": [
            "    Age  Income Class\n",
            "0    22    2200  High\n",
            "3    28    3200  High\n",
            "4    30    3500  High\n",
            "6    40    4000  High\n",
            "7    45    4200  High\n",
            "10   60    5000  High\n",
            "11   65    5500  High\n",
            "    Age  Income Class\n",
            "1    25    2500   Low\n",
            "2    27    2700   Low\n",
            "5    35    3800   Low\n",
            "8    50    4300   Low\n",
            "9    55    4500   Low\n",
            "12   70    6000   Low\n"
          ]
        }
      ]
    },
    {
      "cell_type": "code",
      "source": [
        "df_high_downsampled = resample(df_high,replace=False,n_samples=len(df_low),random_state=42)"
      ],
      "metadata": {
        "id": "FeC_NwAMAdcN"
      },
      "execution_count": 47,
      "outputs": []
    },
    {
      "cell_type": "code",
      "source": [
        "df_balanced = pd.concat([df_high_downsampled,df_low])"
      ],
      "metadata": {
        "id": "ToRzxthLB-dF"
      },
      "execution_count": 48,
      "outputs": []
    },
    {
      "cell_type": "code",
      "source": [
        "print(df_balanced['Class'].value_counts())"
      ],
      "metadata": {
        "colab": {
          "base_uri": "https://localhost:8080/"
        },
        "id": "0Bkkd6MiCD4l",
        "outputId": "025b885b-be2a-4f12-cfad-ea5a18fed37c"
      },
      "execution_count": 50,
      "outputs": [
        {
          "output_type": "stream",
          "name": "stdout",
          "text": [
            "Class\n",
            "High    6\n",
            "Low     6\n",
            "Name: count, dtype: int64\n"
          ]
        }
      ]
    },
    {
      "cell_type": "markdown",
      "source": [
        "\n",
        "\n",
        "> **Upsampling the minority class**\n",
        "\n"
      ],
      "metadata": {
        "id": "Df7hl0ybDtA0"
      }
    },
    {
      "cell_type": "code",
      "source": [
        "df_high = df[df['Class']=='High']\n",
        "df_low = df[df['Class']=='Low']\n",
        "print(df_high)\n",
        "print(df_low)"
      ],
      "metadata": {
        "colab": {
          "base_uri": "https://localhost:8080/"
        },
        "id": "olwT5XgwCb2d",
        "outputId": "d5619e85-9a58-4748-b1c4-54b5fe63fb6e"
      },
      "execution_count": 54,
      "outputs": [
        {
          "output_type": "stream",
          "name": "stdout",
          "text": [
            "    Age  Income Class\n",
            "0    22    2200  High\n",
            "3    28    3200  High\n",
            "4    30    3500  High\n",
            "6    40    4000  High\n",
            "7    45    4200  High\n",
            "10   60    5000  High\n",
            "11   65    5500  High\n",
            "    Age  Income Class\n",
            "1    25    2500   Low\n",
            "2    27    2700   Low\n",
            "5    35    3800   Low\n",
            "8    50    4300   Low\n",
            "9    55    4500   Low\n",
            "12   70    6000   Low\n"
          ]
        }
      ]
    },
    {
      "cell_type": "code",
      "source": [
        "df_low_upsampled = resample(df_low,replace=True,n_samples=len(df_high),random_state=42)"
      ],
      "metadata": {
        "id": "s2Ze8E7ED5ej"
      },
      "execution_count": 57,
      "outputs": []
    },
    {
      "cell_type": "code",
      "source": [
        "df_balanced = pd.concat([df_high,df_low_upsampled])"
      ],
      "metadata": {
        "id": "JtCjRxIlECDj"
      },
      "execution_count": 58,
      "outputs": []
    },
    {
      "cell_type": "code",
      "source": [
        "print(df_balanced['Class'].value_counts())"
      ],
      "metadata": {
        "colab": {
          "base_uri": "https://localhost:8080/"
        },
        "id": "cwDyfhi7Hfpi",
        "outputId": "505b9b88-42ba-4718-bf46-0fd3b0ec8267"
      },
      "execution_count": 60,
      "outputs": [
        {
          "output_type": "stream",
          "name": "stdout",
          "text": [
            "Class\n",
            "High    7\n",
            "Low     7\n",
            "Name: count, dtype: int64\n"
          ]
        }
      ]
    },
    {
      "cell_type": "markdown",
      "source": [
        "\n",
        "\n",
        "> **SMOTE (Synthetic Minority Over-Sampling Technique) to balance the dataset. SMOTE generates synthetic examples rather than simply duplicating existing ones.**\n",
        "- 1. SMOTE to generate synthetic samples instead of duplicating existing ones.\n",
        "- 2. Convert categorical class labels into numeric form for SMOTE to work\n",
        "- 3.Apply SMOTE to balance the dataset\n",
        "- 4. Convert back to original categorical labels.\n",
        "- 5. Combine the resampled data into a final balanced dataset\n",
        "\n"
      ],
      "metadata": {
        "id": "wz9xMsSQJJWS"
      }
    },
    {
      "cell_type": "code",
      "source": [
        "pip install imbalanced-learn"
      ],
      "metadata": {
        "colab": {
          "base_uri": "https://localhost:8080/"
        },
        "id": "_hgVoVuCHl-y",
        "outputId": "66f7d4c4-388a-4d88-a437-c4880b95b3ae"
      },
      "execution_count": 73,
      "outputs": [
        {
          "output_type": "stream",
          "name": "stdout",
          "text": [
            "Requirement already satisfied: imbalanced-learn in /usr/local/lib/python3.11/dist-packages (0.13.0)\n",
            "Requirement already satisfied: numpy<3,>=1.24.3 in /usr/local/lib/python3.11/dist-packages (from imbalanced-learn) (1.26.4)\n",
            "Requirement already satisfied: scipy<2,>=1.10.1 in /usr/local/lib/python3.11/dist-packages (from imbalanced-learn) (1.13.1)\n",
            "Requirement already satisfied: scikit-learn<2,>=1.3.2 in /usr/local/lib/python3.11/dist-packages (from imbalanced-learn) (1.6.1)\n",
            "Requirement already satisfied: sklearn-compat<1,>=0.1 in /usr/local/lib/python3.11/dist-packages (from imbalanced-learn) (0.1.3)\n",
            "Requirement already satisfied: joblib<2,>=1.1.1 in /usr/local/lib/python3.11/dist-packages (from imbalanced-learn) (1.4.2)\n",
            "Requirement already satisfied: threadpoolctl<4,>=2.0.0 in /usr/local/lib/python3.11/dist-packages (from imbalanced-learn) (3.5.0)\n"
          ]
        }
      ]
    },
    {
      "cell_type": "code",
      "source": [
        "import pandas as pd\n",
        "from imblearn.over_sampling import SMOTE"
      ],
      "metadata": {
        "id": "vlq7arD9JFy5"
      },
      "execution_count": 74,
      "outputs": []
    },
    {
      "cell_type": "code",
      "source": [
        "df= pd.DataFrame({\n",
        "    'Age':[22,25,27,28,30,35,40,45,50,55,60,65,70],\n",
        "    'Income':[2200,2500,2700,3200,3500,3800,4000,4200,4300,4500,5000,5500,6000],\n",
        "    'Class':['Minority','Majority','Majority','Majority','Majority',\n",
        "             'Minority','Minority','Minority','Majority','Majority',\n",
        "             'Majority','Majority','Majority']\n",
        "})"
      ],
      "metadata": {
        "id": "Q73WyqU3Jpd5"
      },
      "execution_count": 75,
      "outputs": []
    },
    {
      "cell_type": "code",
      "source": [
        "df['Class']=df['Class'].map({'Majority':0,'Minority':1})"
      ],
      "metadata": {
        "id": "9hJK5-O-KXaQ"
      },
      "execution_count": 76,
      "outputs": []
    },
    {
      "cell_type": "code",
      "source": [
        "x = df[['Age','Income']]\n",
        "y = df['Class']\n",
        "smote = SMOTE(sampling_strategy='auto', random_state=42,k_neighbors=3)\n",
        "x_resampled,y_resampled = smote.fit_resample(x,y)\n",
        "y_resampled=y_resampled.map({0:'Majority',1:'Minority'})\n",
        "df_balanced=pd.concat([pd.DataFrame(x_resampled,columns=['Age','Income']),pd.DataFrame(y_resampled,columns=['Class'])],axis=1)\n",
        "print(df_balanced['Class'].value_counts())\n",
        "print(df_balanced)\n"
      ],
      "metadata": {
        "colab": {
          "base_uri": "https://localhost:8080/"
        },
        "id": "Q_PLqRVCKbPQ",
        "outputId": "5ac01985-a36b-471d-8a75-6f5f1d209835"
      },
      "execution_count": 78,
      "outputs": [
        {
          "output_type": "stream",
          "name": "stdout",
          "text": [
            "Class\n",
            "Minority    9\n",
            "Majority    9\n",
            "Name: count, dtype: int64\n",
            "    Age  Income     Class\n",
            "0    22    2200  Minority\n",
            "1    25    2500  Majority\n",
            "2    27    2700  Majority\n",
            "3    28    3200  Majority\n",
            "4    30    3500  Majority\n",
            "5    35    3800  Minority\n",
            "6    40    4000  Minority\n",
            "7    45    4200  Minority\n",
            "8    50    4300  Majority\n",
            "9    55    4500  Majority\n",
            "10   60    5000  Majority\n",
            "11   65    5500  Majority\n",
            "12   70    6000  Majority\n",
            "13   40    4031  Minority\n",
            "14   35    3831  Minority\n",
            "15   44    4176  Minority\n",
            "16   35    3826  Minority\n",
            "17   41    4040  Minority\n"
          ]
        }
      ]
    }
  ]
}