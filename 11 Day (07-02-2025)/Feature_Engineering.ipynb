{
  "nbformat": 4,
  "nbformat_minor": 0,
  "metadata": {
    "colab": {
      "provenance": []
    },
    "kernelspec": {
      "name": "python3",
      "display_name": "Python 3"
    },
    "language_info": {
      "name": "python"
    }
  },
  "cells": [
    {
      "cell_type": "markdown",
      "source": [
        "\n",
        "\n",
        "> **Full Feature Engineering Guide with Imbalanced Data Handling**\n",
        "\n",
        "> **What is Feature Engineering :** Feature Engineering is the process of creating new features or modifying existing ones to improve the performance of machine learning models. It involves techniques like feature extraction, transformation,encoding, and scaling to make dtaa more useful for predictions.\n",
        "\n",
        "\n",
        "> **Why do we need Feature Engineering :**\n",
        "- Improves Model Performance - Good features helps models make better predictions\n",
        "- Reduces Overfitting - Helps eliminate noise and irrelevant data.\n",
        "- Handles missing data - creates meaningful replacements for missing values\n",
        "- Enables better interpretability - makes features more understandable and useful\n",
        "- Reduces Dimensionality - helps remove unncessary data points, making the model efficient\n"
      ],
      "metadata": {
        "id": "ExjxU--dlo15"
      }
    },
    {
      "cell_type": "code",
      "source": [
        "import pandas as pd\n",
        "df = pd.DataFrame({'TransactionDate' : pd.to_datetime(['2025-02-05 14:30:00', '2025-02-06 18:45:00'])})\n",
        "df['DayOfWeek'] = df['TransactionDate'].dt.dayofweek\n",
        "df['Hour'] = df['TransactionDate'].dt.hour\n",
        "df['IsWeekend'] = df['DayOfWeek'].apply(lambda x : 1 if x>=5 else 0)\n",
        "\n",
        "print(df)\n",
        "# why? helps capture behavioral trends (eg. shopping habits on weekends vs weekdays)"
      ],
      "metadata": {
        "colab": {
          "base_uri": "https://localhost:8080/"
        },
        "id": "aDHbA7BkmtAZ",
        "outputId": "3b9b60cf-846e-42fa-ba67-bf584ed9a01e"
      },
      "execution_count": 4,
      "outputs": [
        {
          "output_type": "stream",
          "name": "stdout",
          "text": [
            "      TransactionDate  DayOfWeek  Hour  IsWeekend\n",
            "0 2025-02-05 14:30:00          2    14          0\n",
            "1 2025-02-06 18:45:00          3    18          0\n"
          ]
        }
      ]
    },
    {
      "cell_type": "code",
      "source": [
        "# aggregated features\n",
        "# find average transaction amount per user :\n",
        "df_transactions = pd.DataFrame({\n",
        "    'UserID' : [101,102,101,103,102],\n",
        "    'TransactionAmount' : [500,300,700,1000,400]\n",
        "})\n",
        "\n",
        "df_user_avg = df_transactions.groupby('UserID')['TransactionAmount'].mean().reset_index()\n",
        "df_user_avg.rename(columns = {'TransactionAmount' : 'AvgTransactionAmount'}, inplace = True)\n",
        "\n",
        "print(df_user_avg)"
      ],
      "metadata": {
        "colab": {
          "base_uri": "https://localhost:8080/"
        },
        "id": "t2jf6LxeneQp",
        "outputId": "967cc65a-b95a-4985-b8e1-2199e34f64af"
      },
      "execution_count": 6,
      "outputs": [
        {
          "output_type": "stream",
          "name": "stdout",
          "text": [
            "   UserID  AvgTransactionAmount\n",
            "0     101                 600.0\n",
            "1     102                 350.0\n",
            "2     103                1000.0\n"
          ]
        }
      ]
    },
    {
      "cell_type": "code",
      "source": [
        "# encoding categorical varibales\n",
        "# convert productCategory (electronics, clothing) into numerical form:\n",
        "from sklearn.preprocessing import OneHotEncoder\n",
        "df = pd.DataFrame({'ProductCategory': ['Electronics', 'Clothing', 'Clothing','Grocery']})\n",
        "encoder = OneHotEncoder(sparse_output= False)\n",
        "encoded_features = encoder.fit_transform(df[['ProductCategory']])\n",
        "\n",
        "df_encoded = pd.DataFrame(encoded_features, columns = encoder.get_feature_names_out())\n",
        "print(df_encoded)\n",
        "# why? converts non-numeric categories into a format suitable for ML models"
      ],
      "metadata": {
        "colab": {
          "base_uri": "https://localhost:8080/"
        },
        "id": "UwF3K97ZoskP",
        "outputId": "13744628-5f97-4607-8cc6-a17840ef1256"
      },
      "execution_count": 13,
      "outputs": [
        {
          "output_type": "stream",
          "name": "stdout",
          "text": [
            "   ProductCategory_Clothing  ProductCategory_Electronics  \\\n",
            "0                       0.0                          1.0   \n",
            "1                       1.0                          0.0   \n",
            "2                       1.0                          0.0   \n",
            "3                       0.0                          0.0   \n",
            "\n",
            "   ProductCategory_Grocery  \n",
            "0                      0.0  \n",
            "1                      0.0  \n",
            "2                      0.0  \n",
            "3                      1.0  \n"
          ]
        }
      ]
    },
    {
      "cell_type": "code",
      "source": [
        "# Log Transformation for Skewed Data\n",
        "# If TransactionAmount has outliers,apply log transformation:\n",
        "import numpy as np\n",
        "df = pd.DataFrame({'TransactionAmount' : [100,200,5000,10000,20000]})\n",
        "df['LogTransactionAmount'] = np.log1p(df['TransactionAmount'])\n",
        "print(df)\n",
        "#why? reduce skewness and impact of outliers"
      ],
      "metadata": {
        "colab": {
          "base_uri": "https://localhost:8080/"
        },
        "id": "doJm-7bDp5L_",
        "outputId": "54636e73-45dd-4e73-e1ef-24902a459481"
      },
      "execution_count": 15,
      "outputs": [
        {
          "output_type": "stream",
          "name": "stdout",
          "text": [
            "   TransactionAmount  LogTransactionAmount\n",
            "0                100              4.615121\n",
            "1                200              5.303305\n",
            "2               5000              8.517393\n",
            "3              10000              9.210440\n",
            "4              20000              9.903538\n"
          ]
        }
      ]
    },
    {
      "cell_type": "markdown",
      "source": [
        "\n",
        "\n",
        "> **Feature Scaling (Normalizing)**\n",
        "\n",
        "\n"
      ],
      "metadata": {
        "id": "04uvBv7UriNW"
      }
    },
    {
      "cell_type": "code",
      "source": [
        "from sklearn.preprocessing import MinMaxScaler, StandardScaler\n",
        "scaler = MinMaxScaler()\n",
        "df['NormalizedAmount'] = scaler.fit_transform(df[['TransactionAmount']])\n",
        "\n",
        "standard_scaler = StandardScaler()\n",
        "df['StandardizedTransactionAmount'] = standard_scaler.fit_transform(df[['TransactionAmount']])\n",
        "print(df)\n",
        "\n",
        "# why? ensures all features have the same scale, preventing bias in ML models"
      ],
      "metadata": {
        "colab": {
          "base_uri": "https://localhost:8080/"
        },
        "id": "N_6Fls8trqpN",
        "outputId": "19cb7454-b90e-4d5b-a401-28e693c95a9e"
      },
      "execution_count": 19,
      "outputs": [
        {
          "output_type": "stream",
          "name": "stdout",
          "text": [
            "   TransactionAmount  LogTransactionAmount  NormalizedAmount  \\\n",
            "0                100              4.615121          0.000000   \n",
            "1                200              5.303305          0.005025   \n",
            "2               5000              8.517393          0.246231   \n",
            "3              10000              9.210440          0.497487   \n",
            "4              20000              9.903538          1.000000   \n",
            "\n",
            "   StandardizedTransactionAmount  \n",
            "0                      -0.937070  \n",
            "1                      -0.923606  \n",
            "2                      -0.277351  \n",
            "3                       0.395831  \n",
            "4                       1.742196  \n"
          ]
        }
      ]
    },
    {
      "cell_type": "markdown",
      "source": [
        "\n",
        "\n",
        "> **Final Summary of Feature Engineering & Imbalanced Data Handling**\n",
        "\n",
        "- Feature Extraction : Extract new insights from raw data (e.g., Hour, DayOfWeek)\n",
        "\n",
        "- Aggregated Features : Calculate meaningful statistics (e.g., AvgTransactionAmountPerUser)\n",
        "\n",
        "- Encoding : Convert categorical variables into numerical (One-Hot Encoding)\n",
        "\n",
        "- Log Transformation : Reduce skewness in data distribution\n",
        "\n",
        "- Feature Scaling : Normalize numerical features for better model performance\n",
        "\n",
        "- Downsampling: Reduce the size of the majority class\n",
        "\n",
        "- Upsampling : Increase the size of the minority class\n",
        "\n",
        "- SMOTE(Synthetic Minority Over-sampling Technique) : Generate synthetic samples for the minority class\n",
        "\n"
      ],
      "metadata": {
        "id": "g3yAeSkluMGF"
      }
    }
  ]
}